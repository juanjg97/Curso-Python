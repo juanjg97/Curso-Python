{
 "cells": [
  {
   "cell_type": "markdown",
   "metadata": {},
   "source": [
    "# Introducción"
   ]
  },
  {
   "cell_type": "markdown",
   "metadata": {},
   "source": [
    "## Variables"
   ]
  },
  {
   "cell_type": "code",
   "execution_count": 50,
   "metadata": {},
   "outputs": [
    {
     "name": "stdout",
     "output_type": "stream",
     "text": [
      "Hello World\n",
      "\n",
      "Hola Mundo\n",
      "\n",
      "La suma de 10 y 20 es: 30\n"
     ]
    }
   ],
   "source": [
    "print(\"Hello World\")\n",
    "\n",
    "saludo = \"Hola Mundo\"\n",
    "print(\"\\n\"+saludo)\n",
    "\n",
    "x = 10; y=20; z=x+y\n",
    "print(\"\\nLa suma de \"+str(x)+\" y \"+str(y)+\" es: \"+str(z))\n",
    "\n",
    "#-----------------------Dirección de Memoria y Ram\n",
    "\n",
    "#Los valores de las variables se guardan en la memoria de\n",
    "#Da la dirección de memoria donde se encuentra el valor de la variable\n",
    "# print(id(x)) => Sólo funciona cuando se ejecuta en terminal"
   ]
  },
  {
   "cell_type": "markdown",
   "metadata": {},
   "source": [
    "### EJERCICIOS"
   ]
  },
  {
   "cell_type": "code",
   "execution_count": 51,
   "metadata": {},
   "outputs": [
    {
     "name": "stdout",
     "output_type": "stream",
     "text": [
      "Nombre: Juan Pérez\n",
      "Telefono: 123456\n",
      "Correo: jperez@gmail.com\n"
     ]
    }
   ],
   "source": [
    "nombre = \"Juan Pérez\"; telefono = 123456; correo = \"jperez@gmail.com\"\n",
    "print(\"Nombre: \"+nombre);print(\"Telefono: \"+str(telefono));print(\"Correo: \"+correo)"
   ]
  },
  {
   "cell_type": "markdown",
   "metadata": {},
   "source": [
    "## Tipos de datos"
   ]
  },
  {
   "cell_type": "code",
   "execution_count": 52,
   "metadata": {},
   "outputs": [
    {
     "name": "stdout",
     "output_type": "stream",
     "text": [
      "10\n",
      "<class 'int'>\n",
      "-----\n",
      "Hello\n",
      "<class 'str'>\n",
      "-----\n",
      "10.5\n",
      "<class 'float'>\n",
      "-----\n",
      "True\n",
      "<class 'bool'>\n",
      "-----\n"
     ]
    }
   ],
   "source": [
    "x=10; print(x); print(type(x));print(\"-----\")\n",
    "\n",
    "x=\"Hello\"; print(x); print(type(x));print(\"-----\")\n",
    "\n",
    "x=10.5; print(x); print(type(x));print(\"-----\")\n",
    "\n",
    "x=True; print(x); print(type(x));print(\"-----\")"
   ]
  },
  {
   "cell_type": "code",
   "execution_count": 53,
   "metadata": {},
   "outputs": [
    {
     "name": "stdout",
     "output_type": "stream",
     "text": [
      "Mis grupos favoritos son: Metallica Slipknot\n",
      "Mis grupos favoritos son: Metallica Slipknot\n",
      "------\n",
      "10\n",
      "55\n",
      "<class 'int'>\n",
      "<class 'str'>\n",
      "------\n",
      "True\n"
     ]
    }
   ],
   "source": [
    "# Manejo de cadenas\n",
    "# Concatenación \n",
    "\n",
    "grupo_uno = \"Metallica\"; grupo_dos = \"Slipknot\"; \n",
    "\n",
    "print(\"Mis grupos favoritos son: \"+grupo_uno+\" \"+grupo_dos)\n",
    "\n",
    "print(\"Mis grupos favoritos son:\",grupo_uno,grupo_dos);print(\"------\")\n",
    "\n",
    "#Sobre carga de operadores, el simbolo +, funciona diferente dependiendo el tipo de dati\n",
    "num1=5;num2=5;print(num1+num2)\n",
    "num1=\"5\";num2=\"5\";print(num1+num2)\n",
    "\n",
    "#Conversión de tipo de datos\n",
    "num3=5;print(type(num3));num3s=str(num3);print(type(num3s));print(\"------\")\n",
    "\n",
    "#Tipo Bool\n",
    "mi_variable = 3 > 2; print(mi_variable)\n"
   ]
  },
  {
   "cell_type": "code",
   "execution_count": 54,
   "metadata": {},
   "outputs": [
    {
     "name": "stdout",
     "output_type": "stream",
     "text": [
      "La suma de 5 y 6 es: 11\n"
     ]
    }
   ],
   "source": [
    "#Entrada por teclado\n",
    "\n",
    "num1=int(input(\"Ingresa el primer número: \"));\n",
    "num2=int(input(\"Ingresa el segundo número: \"))\n",
    "num3=num1+num2\n",
    "print(\"La suma de \"+str(num1)+\" y \"+str(num2)+\" es: \"+str(num3))"
   ]
  },
  {
   "cell_type": "markdown",
   "metadata": {},
   "source": [
    "## Operadores en Python"
   ]
  },
  {
   "cell_type": "markdown",
   "metadata": {},
   "source": [
    "Suma: + Resta: - Multiplicación: * División: /\n",
    "División de enteros: // Exponente: ** Residuo %"
   ]
  },
  {
   "cell_type": "code",
   "execution_count": 55,
   "metadata": {},
   "outputs": [
    {
     "name": "stdout",
     "output_type": "stream",
     "text": [
      "El resultado de 5 + 7 es: 12\n",
      "El resultado de 5 - 7 es: -2\n",
      "El resultado de 5 * 7 es: 35\n",
      "El resultado de 15 / 7 es: 2.142857142857143\n",
      "El resultado de 15 // 7 es: 2\n",
      "El resultado de 14 % 7 es: 0\n",
      "El resultado de 2 ** 3 es: 8\n"
     ]
    }
   ],
   "source": [
    "#Forma diferente de concatenar\n",
    "\n",
    "num1=5;num2=7;num3=num1+num2\n",
    "print(f'El resultado de {num1} + {num2} es: {num3}')\n",
    "num1=5;num2=7;num3=num1-num2\n",
    "print(f'El resultado de {num1} - {num2} es: {num3}')\n",
    "num1=5;num2=7;num3=num1*num2\n",
    "print(f'El resultado de {num1} * {num2} es: {num3}')\n",
    "num1=15;num2=7;num3=num1/num2\n",
    "print(f'El resultado de {num1} / {num2} es: {num3}')\n",
    "num1=15;num2=7;num3=num1//num2\n",
    "print(f'El resultado de {num1} // {num2} es: {num3}')\n",
    "num1=14;num2=7;num3=num1%num2\n",
    "print(f'El resultado de {num1} % {num2} es: {num3}')\n",
    "num1=2;num2=3;num3=num1**num2\n",
    "print(f'El resultado de {num1} ** {num2} es: {num3}')\n"
   ]
  },
  {
   "cell_type": "code",
   "execution_count": 56,
   "metadata": {},
   "outputs": [
    {
     "name": "stdout",
     "output_type": "stream",
     "text": [
      "5\n",
      "7\n",
      "5\n",
      "10\n",
      "5.0\n"
     ]
    }
   ],
   "source": [
    "## Operadores de Re asignación\n",
    "variable = 5\n",
    "print(variable)\n",
    "\n",
    "variable+=2\n",
    "print(variable)\n",
    "\n",
    "variable-=2\n",
    "print(variable)\n",
    "\n",
    "variable*=2\n",
    "print(variable)\n",
    "\n",
    "variable/=2\n",
    "print(variable)\n",
    "\n"
   ]
  },
  {
   "cell_type": "code",
   "execution_count": 57,
   "metadata": {},
   "outputs": [],
   "source": [
    "# Operadores de comparación"
   ]
  },
  {
   "cell_type": "markdown",
   "metadata": {},
   "source": [
    "Operadores de comparación:\n",
    "- igual a: \"==\" \n",
    "- diferente de: \"!=\"  \n",
    "- mayor a: \">\"  \n",
    "- menor a: \"<\"  \n",
    "\n",
    "Operadores Lógicos:\n",
    "- and\n",
    "- or\n",
    "- not => Sólo necesita un valor para operar"
   ]
  },
  {
   "cell_type": "code",
   "execution_count": 59,
   "metadata": {},
   "outputs": [
    {
     "name": "stdout",
     "output_type": "stream",
     "text": [
      "El número 16 es par\n"
     ]
    }
   ],
   "source": [
    "# Ejercicio número par o impar\n",
    "numero=int(input(\"Ingresa un número: \"))\n",
    "if numero%2 == 0:\n",
    "  print(f\"El número {numero} es par\")\n",
    "else:\n",
    "  print(f\"El número {numero} es impar\")"
   ]
  },
  {
   "cell_type": "code",
   "execution_count": 62,
   "metadata": {},
   "outputs": [
    {
     "name": "stdout",
     "output_type": "stream",
     "text": [
      "Estas en tus 20s\n",
      "Eres mayor de edad\n"
     ]
    }
   ],
   "source": [
    "# Simplificando operador and\n",
    "edad=int(input(\"Ingresa tu edad: \"))\n",
    "\n",
    "if(edad>=20 and edad <=30):\n",
    "    print(\"Estas en tus 20s\")\n",
    "\n",
    "if(20 <= edad <=30):\n",
    "    print(\"Eres mayor de edad\")"
   ]
  },
  {
   "cell_type": "code",
   "execution_count": 63,
   "metadata": {},
   "outputs": [
    {
     "name": "stdout",
     "output_type": "stream",
     "text": [
      "The\n",
      "a\n",
      "b\n",
      "c\n"
     ]
    }
   ],
   "source": [
    "#Impresión con otro formato\n",
    "print('''The\n",
    "a\n",
    "b\n",
    "c''')"
   ]
  },
  {
   "cell_type": "markdown",
   "metadata": {},
   "source": [
    "## Sentencias de control"
   ]
  },
  {
   "cell_type": "code",
   "execution_count": 4,
   "metadata": {},
   "outputs": [
    {
     "name": "stdout",
     "output_type": "stream",
     "text": [
      "Condición verdadera\n",
      "El número es 6\n",
      "Verdadero\n"
     ]
    }
   ],
   "source": [
    "# IF ELSE\n",
    "condicion = True\n",
    "if condicion:\n",
    "  print(\"Condición verdadera\")\n",
    "else:\n",
    "  print(\"Condición falsa\")\n",
    "\n",
    "#La diferencia es que elif, termina en cuanto se encuentra la condición y ya no se encuentraevualuan\n",
    "#los demás if\n",
    "#ELSE IF \n",
    "num = 6\n",
    "if num==5:\n",
    "  print(\"El número es 5\")\n",
    "elif num == 6:\n",
    "    print(\"El número es 6\")\n",
    "elif num ==7:\n",
    "  print(\"El número es 7\")\n",
    "else:\n",
    "  print(\"Es un número desconocido\")\n",
    "\n",
    "# Operador Ternario\n",
    "condicion = True\n",
    "print(\"Verdadero\") if condicion else print(\"Falso\")\n"
   ]
  },
  {
   "cell_type": "markdown",
   "metadata": {},
   "source": [
    "## Ciclos"
   ]
  },
  {
   "cell_type": "code",
   "execution_count": 7,
   "metadata": {},
   "outputs": [
    {
     "name": "stdout",
     "output_type": "stream",
     "text": [
      "0\n",
      "1\n",
      "2\n",
      "3\n",
      "4\n",
      "Fin del ciclo while\n",
      "----------------\n",
      "0\n",
      "1\n",
      "2\n",
      "3\n",
      "El valor llego a 4 y se interrumpe el while\n"
     ]
    }
   ],
   "source": [
    "# Ciclo While\n",
    "contador = 0\n",
    "while contador < 5:\n",
    "  print(contador)\n",
    "  contador+=1\n",
    "else:\n",
    "  print(\"Fin del ciclo while\")\n",
    "\n",
    "print(\"----------------\")\n",
    "\n",
    "contador = 0\n",
    "while contador < 5:\n",
    "  print(contador)\n",
    "  contador+=1\n",
    "  if contador ==4:\n",
    "    print(\"El valor llego a 4 y se interrumpe el while\")\n",
    "    break\n",
    "else:\n",
    "  print(\"Fin del ciclo while\")"
   ]
  },
  {
   "cell_type": "code",
   "execution_count": 12,
   "metadata": {},
   "outputs": [
    {
     "name": "stdout",
     "output_type": "stream",
     "text": [
      "apple\n",
      "banana\n",
      "cherry\n",
      "\n",
      "J\n",
      "u\n",
      "a\n",
      "n\n",
      "Fin ciclo for\n",
      "\n",
      "apple\n"
     ]
    }
   ],
   "source": [
    "fruits = [\"apple\", \"banana\", \"cherry\"]\n",
    "for frut in fruits:\n",
    "  print(frut)\n",
    "else:\n",
    "  print(\"\")\n",
    "\n",
    "name = \"Juan\"\n",
    "for letter in name:\n",
    "  print(letter)\n",
    "else:\n",
    "  print(\"Fin ciclo for\\n\")\n",
    "\n",
    "fruits = [\"apple\", \"banana\", \"cherry\"]\n",
    "for x in fruits:\n",
    "  if x == \"banana\":\n",
    "    break\n",
    "  print(x)"
   ]
  },
  {
   "cell_type": "code",
   "execution_count": 16,
   "metadata": {},
   "outputs": [
    {
     "name": "stdout",
     "output_type": "stream",
     "text": [
      "0\n",
      "1\n",
      "2\n",
      "3\n",
      "4\n",
      "5\n",
      "Fin del ciclo\n",
      "\n",
      "5\n",
      "6\n",
      "7\n",
      "8\n",
      "9\n",
      "Fin del ciclo\n",
      "\n",
      "0\n",
      "5\n",
      "10\n",
      "15\n",
      "20\n",
      "25\n",
      "30\n",
      "35\n",
      "40\n",
      "45\n",
      "Fin del ciclo\n",
      "\n"
     ]
    }
   ],
   "source": [
    "for x in range(6):\n",
    "  print(x)\n",
    "else:\n",
    "  print(\"Fin del ciclo\\n\")\n",
    "\n",
    "\n",
    "for x in range(5, 10):\n",
    "  print(x)\n",
    "else:\n",
    "  print(\"Fin del ciclo\\n\")\n",
    "\n",
    "for x in range(0, 50, 5):\n",
    "  print(x)\n",
    "else:\n",
    "  print(\"Fin del ciclo\\n\")  "
   ]
  },
  {
   "cell_type": "code",
   "execution_count": 17,
   "metadata": {},
   "outputs": [
    {
     "name": "stdout",
     "output_type": "stream",
     "text": [
      "El número: 0 es par\n",
      "El número: 2 es par\n",
      "El número: 4 es par\n",
      "El número: 6 es par\n",
      "El número: 8 es par\n"
     ]
    }
   ],
   "source": [
    "for i in range(10):\n",
    "  if i%2 != 0:\n",
    "    continue\n",
    "  print(f\"El número: {i} es par\")"
   ]
  },
  {
   "cell_type": "markdown",
   "metadata": {},
   "source": [
    "## Colecciones"
   ]
  },
  {
   "cell_type": "markdown",
   "metadata": {},
   "source": [
    "### Listas"
   ]
  },
  {
   "cell_type": "markdown",
   "metadata": {},
   "source": [
    "Se respeta el orden, se pueden ir agregando más elementos o removerlos"
   ]
  },
  {
   "cell_type": "code",
   "execution_count": 4,
   "metadata": {},
   "outputs": [
    {
     "name": "stdout",
     "output_type": "stream",
     "text": [
      "La lista completa es: ['Juan', 'Carlos', 0, True, False]\n",
      "El elemento 0 de la lista es: Juan\n",
      "\n",
      "False\n",
      "True\n",
      "\n",
      "['Juan', 'Carlos', 0, True]\n",
      "['Juan', 'Carlos', 0, True, False]\n",
      "['Juan', 'Carlos', 0, True, False]\n",
      "['Juan', 'Carlos']\n",
      "[0, True, False]\n",
      "['Juan', 'Carlos', 0, True, False]\n",
      "\n",
      "['José', 'Carlos', 0, True, False]\n",
      "\n"
     ]
    }
   ],
   "source": [
    "# Listas\n",
    "lista = [\"Juan\",'Carlos',0,True,False]\n",
    "\n",
    "print(f\"La lista completa es: {lista}\")\n",
    "print(f\"El elemento 0 de la lista es: {lista[0]}\");print(\"\")\n",
    "#Acceder a los elementos de manera inversa\n",
    "print(lista[-1]);print(lista[-2]);print(\"\")\n",
    "\n",
    "#Slicing\n",
    "print(lista[0:4])\n",
    "print(lista[0:5])\n",
    "print(lista[0:len(lista)])\n",
    "#Sin incluir los índices\n",
    "print(lista[:2]) #Desde el primero hasta\n",
    "print(lista[2:]) #Desde x hasta el último\n",
    "print(lista[:]);print(\"\")  #Desde el primero hasta el último\n",
    "\n",
    "#Cambiar valor\n",
    "lista[0] = \"José\"\n",
    "print(lista);print(\"\")\n"
   ]
  },
  {
   "cell_type": "code",
   "execution_count": 15,
   "metadata": {},
   "outputs": [
    {
     "name": "stdout",
     "output_type": "stream",
     "text": [
      "[0, 2, 3, 4, 5]\n",
      "[5, 6, 7, 8, 9, 10]\n"
     ]
    }
   ],
   "source": [
    "#Recordemos que no podemos hacer una copia tal cual, \n",
    "#ya que se modifica la matriz original\n",
    "\n",
    "#Las líneas de memoria son las mismas\n",
    "\n",
    "lista1 = [1,2,3,4,5]\n",
    "lista2 = lista1\n",
    "lista2[0]=0\n",
    "print(lista1)\n",
    "\n",
    "lista3 = [5,6,7,8,9,10]\n",
    "lista4 = lista3.copy()\n",
    "lista4[0]=0\n",
    "print(lista3)"
   ]
  },
  {
   "cell_type": "code",
   "execution_count": 5,
   "metadata": {},
   "outputs": [
    {
     "name": "stdout",
     "output_type": "stream",
     "text": [
      "José\n",
      "Carlos\n",
      "0\n",
      "True\n",
      "False\n",
      "\n",
      "\n",
      "['José', 'Carlos', 0, True, False, 5, 6, 7, 8, 9]\n",
      "\n",
      "['Danirex', 'José', 'Carlos', 0, True, False, 5, 6, 7, 8, 9]\n",
      "\n",
      "['José', 'Carlos', 0, True, False, 5, 6, 7, 8, 9]\n",
      "\n",
      "['José', 'Carlos', 0, True, False, 5, 6, 7, 8]\n",
      "\n",
      "['José', 0, True, False, 5, 6, 7, 8]\n",
      "\n",
      "[0, True, False, 5, 6, 7, 8]\n",
      "\n",
      "[]\n",
      "\n"
     ]
    },
    {
     "ename": "NameError",
     "evalue": "name 'lista' is not defined",
     "output_type": "error",
     "traceback": [
      "\u001b[1;31m---------------------------------------------------------------------------\u001b[0m",
      "\u001b[1;31mNameError\u001b[0m                                 Traceback (most recent call last)",
      "\u001b[1;32m~\\AppData\\Local\\Temp/ipykernel_19600/2375669400.py\u001b[0m in \u001b[0;36m<module>\u001b[1;34m\u001b[0m\n\u001b[0;32m     34\u001b[0m \u001b[1;31m#Eliminar la lista de la memoria\u001b[0m\u001b[1;33m\u001b[0m\u001b[1;33m\u001b[0m\u001b[0m\n\u001b[0;32m     35\u001b[0m \u001b[1;32mdel\u001b[0m \u001b[0mlista\u001b[0m\u001b[1;33m\u001b[0m\u001b[1;33m\u001b[0m\u001b[0m\n\u001b[1;32m---> 36\u001b[1;33m \u001b[0mprint\u001b[0m\u001b[1;33m(\u001b[0m\u001b[0mlista\u001b[0m\u001b[1;33m)\u001b[0m\u001b[1;33m\u001b[0m\u001b[1;33m\u001b[0m\u001b[0m\n\u001b[0m",
      "\u001b[1;31mNameError\u001b[0m: name 'lista' is not defined"
     ]
    }
   ],
   "source": [
    "#Ciclo for\n",
    "for i in range(len(lista)):\n",
    "  print(lista[i])\n",
    "else:\n",
    "  print(\"\\n\")\n",
    "\n",
    "#Agregar elementos a una lista\n",
    "for i in range(5,10,1):\n",
    "  lista.append(i)\n",
    "print(lista);print(\"\")\n",
    "\n",
    "#Agregar (no sustituir) elementos en una posición definida\n",
    "lista.insert(0,\"Danirex\")\n",
    "print(lista);print(\"\")\n",
    "\n",
    "#Remove un elemento\n",
    "lista.remove(\"Danirex\")\n",
    "print(lista);print(\"\")\n",
    "\n",
    "#Remover el último elemento\n",
    "lista.pop()\n",
    "print(lista);print(\"\")\n",
    "\n",
    "#Remover el elemento por índice\n",
    "lista.pop(1)\n",
    "print(lista);print(\"\")\n",
    "del lista[0]\n",
    "print(lista);print(\"\")\n",
    "\n",
    "#Eliminar todos los elementos por\n",
    "lista.clear()\n",
    "print(lista);print(\"\")\n",
    "\n",
    "#Eliminar la lista de la memoria\n",
    "del lista\n",
    "print(lista)"
   ]
  },
  {
   "cell_type": "markdown",
   "metadata": {},
   "source": [
    "### Tuplas"
   ]
  },
  {
   "cell_type": "markdown",
   "metadata": {},
   "source": [
    "- Guarda el orden de los elementos, sin embargo ya no se pueden modificar, tipo inmutable.\n",
    "- También pueden contener diferentes tipos de datos\n",
    "- Si una tupla sólo tiene un elemento, el último valor debe de tener una coma:\n",
    "- - frutas = (\"platano\",)"
   ]
  },
  {
   "cell_type": "code",
   "execution_count": 3,
   "metadata": {},
   "outputs": [
    {
     "name": "stdout",
     "output_type": "stream",
     "text": [
      "La cantidad de elementos de la tupla es: 3\n",
      "El primer elemento de la tupla es: Naranja\n",
      "El último elemento de la tupla es: Guayaba\n",
      "También se puede usar slicing('Naranja', 'Platano', 'Guayaba')\n",
      "('Manzana',)\n"
     ]
    }
   ],
   "source": [
    "frutas = (\"Naranja\",\"Platano\",\"Guayaba\")\n",
    "fruta = (\"Manzana\",)\n",
    "print(f\"La cantidad de elementos de la tupla es: {len(frutas)}\")\n",
    "print(f\"El primer elemento de la tupla es: {frutas[0]}\")\n",
    "print(f\"El último elemento de la tupla es: {frutas[-1]}\")\n",
    "print(f\"También se puede usar slicing{frutas[:]}\")\n",
    "print(fruta[0:1])"
   ]
  },
  {
   "cell_type": "code",
   "execution_count": 11,
   "metadata": {},
   "outputs": [
    {
     "name": "stdout",
     "output_type": "stream",
     "text": [
      "Kiwi Platano Guayaba \n",
      " ('Kiwi', 'Platano', 'Guayaba')\n"
     ]
    }
   ],
   "source": [
    "for fruta in frutas:\n",
    "  print(fruta,end=' ')\n",
    "\n",
    "\n",
    "# Realizar conversiones de manera indirecta\n",
    "frutasLista = list(frutas)\n",
    "frutasLista[0] = \"Kiwi\"\n",
    "frutas = tuple(frutasLista)\n",
    "print('\\n',frutas)\n",
    "\n"
   ]
  },
  {
   "cell_type": "markdown",
   "metadata": {},
   "source": [
    "### Set"
   ]
  },
  {
   "cell_type": "markdown",
   "metadata": {},
   "source": [
    "- No mantiene orden (no tienen indices)\n",
    "- No permite elementos duplicados\n",
    "- No modifica los elementos almacenados\n",
    "- Se pueden agregar y eliminar elementos \n",
    "- Se pueden tener elementos de diferente tipo"
   ]
  },
  {
   "cell_type": "code",
   "execution_count": 45,
   "metadata": {},
   "outputs": [
    {
     "name": "stdout",
     "output_type": "stream",
     "text": [
      "{'Tierra', 'Jupiter', 'Urano', 'Marte', 'Saturno'} \n",
      "\n",
      "La longitud de set es: 5\n",
      "¿Marte se encuentra en el set?: True\n",
      "¿Sol se encuentra en el set?: False\n",
      "\n",
      " {'Tierra', 'Sol', 'Jupiter', 'Urano', 'Marte', 'Saturno'}\n",
      "\n",
      " {'Tierra', 'Sol', 'Jupiter', 'Urano', 'Marte', 'Saturno'}\n",
      "\n",
      " {'Tierra', 'Jupiter', 'Urano', 'Marte', 'Saturno'}\n",
      "\n",
      " {'Tierra', 'Jupiter', 'Urano', 'Marte', 'Saturno'}\n",
      "\n",
      " {'Jupiter', 'Urano', 'Marte', 'Saturno'}\n",
      "set()\n"
     ]
    },
    {
     "ename": "NameError",
     "evalue": "name 'planetas' is not defined",
     "output_type": "error",
     "traceback": [
      "\u001b[1;31m---------------------------------------------------------------------------\u001b[0m",
      "\u001b[1;31mNameError\u001b[0m                                 Traceback (most recent call last)",
      "\u001b[1;32m~\\AppData\\Local\\Temp/ipykernel_19600/1407011875.py\u001b[0m in \u001b[0;36m<module>\u001b[1;34m\u001b[0m\n\u001b[0;32m     20\u001b[0m \u001b[1;33m\u001b[0m\u001b[0m\n\u001b[0;32m     21\u001b[0m \u001b[1;31m#Eliminar por completo\u001b[0m\u001b[1;33m\u001b[0m\u001b[1;33m\u001b[0m\u001b[0m\n\u001b[1;32m---> 22\u001b[1;33m \u001b[1;32mdel\u001b[0m \u001b[0mplanetas\u001b[0m\u001b[1;33m;\u001b[0m \u001b[0mprint\u001b[0m\u001b[1;33m(\u001b[0m\u001b[0mplanetas\u001b[0m\u001b[1;33m)\u001b[0m\u001b[1;33m\u001b[0m\u001b[1;33m\u001b[0m\u001b[0m\n\u001b[0m\u001b[0;32m     23\u001b[0m \u001b[1;33m\u001b[0m\u001b[0m\n",
      "\u001b[1;31mNameError\u001b[0m: name 'planetas' is not defined"
     ]
    }
   ],
   "source": [
    "planetas = {\"Marte\",\"Tierra\",\"Jupiter\",\"Saturno\",\"Urano\"}\n",
    "print(planetas,\"\\n\")\n",
    "\n",
    "print(f\"La longitud de set es: {len(planetas)}\")\n",
    "print(f\"¿Marte se encuentra en el set?: {'Marte' in planetas}\")\n",
    "print(f\"¿Sol se encuentra en el set?: {'Sol' in planetas}\")\n",
    "\n",
    "#Agregar elementos\n",
    "planetas.add(\"Sol\");print(\"\\n\",planetas)\n",
    "#Si volvemos a agregar, simplemente no se agrega al SET\n",
    "planetas.add(\"Sol\");print(\"\\n\",planetas)\n",
    "\n",
    "#Eliminar elementos\n",
    "planetas.remove(\"Sol\");print(\"\\n\",planetas)\n",
    "planetas.discard(\"Tierras\");print(\"\\n\",planetas) # Si no lo encuentra no arroja error\n",
    "planetas.discard(\"Tierra\");print(\"\\n\",planetas)\n",
    "\n",
    "#Eliminar todos los elementos\n",
    "planetas.clear();print(planetas)\n",
    "\n",
    "#Eliminar por completo\n",
    "del planetas; print(planetas)\n",
    "\n"
   ]
  },
  {
   "cell_type": "markdown",
   "metadata": {},
   "source": [
    "### Diccionarios"
   ]
  },
  {
   "cell_type": "markdown",
   "metadata": {},
   "source": [
    "- Se tiene una clave y un valor asociado a esa clave\n",
    "- La llave puede ser de tipo inmutable (int, float, boot, str, etc)\n",
    "- No se tienen indices, para acceder a los elemento se necesita la llave\n",
    "- No se pueden agregar claves duplicadas, si no se reescribe"
   ]
  },
  {
   "cell_type": "code",
   "execution_count": 56,
   "metadata": {},
   "outputs": [
    {
     "name": "stdout",
     "output_type": "stream",
     "text": [
      "{'IDE': 'Integrated Development Environment', 'OPP': 'Object Oriented Programming', 'DBMS': 'Database Management System'} \n",
      "\n",
      "La longitud del diccionario es: 3\n",
      "\n",
      " Integrated Development Environment\n",
      "\n",
      " Integrated Development Environment\n",
      "\n",
      " integrated development enviromento\n"
     ]
    }
   ],
   "source": [
    "#dict = {clave:valor}\n",
    "diccionario = {\n",
    "  'IDE':'Integrated Development Environment',\n",
    "  'OPP':'Object Oriented Programming',\n",
    "  'DBMS':'Database Management System'\n",
    "}\n",
    "print(diccionario,\"\\n\")\n",
    "\n",
    "print(f\"La longitud del diccionario es: {len(diccionario)}\")\n",
    "#Obtener los elementos\n",
    "print(\"\\n\",diccionario[\"IDE\"])\n",
    "print(\"\\n\",diccionario.get(\"IDE\"))\n",
    "#Modificar los elementos\n",
    "diccionario[\"IDE\"] = \"integrated development enviromento\"\n",
    "print(\"\\n\",diccionario[\"IDE\"])"
   ]
  },
  {
   "cell_type": "code",
   "execution_count": 64,
   "metadata": {},
   "outputs": [
    {
     "name": "stdout",
     "output_type": "stream",
     "text": [
      "IDE integrated development enviromento\n",
      "OPP Object Oriented Programming\n",
      "DBMS Database Management System\n",
      "PK Primary Key\n",
      "\n",
      "IDE\n",
      "OPP\n",
      "DBMS\n",
      "PK\n",
      "\n",
      "integrated development enviromento\n",
      "Object Oriented Programming\n",
      "Database Management System\n",
      "Primary Key\n",
      "\n",
      "True\n",
      "\n",
      " {'IDE': 'integrated development enviromento', 'OPP': 'Object Oriented Programming', 'DBMS': 'Database Management System', 'PK': 'Primary Key'}\n",
      "\n",
      " {'OPP': 'Object Oriented Programming', 'DBMS': 'Database Management System', 'PK': 'Primary Key'}\n",
      "\n",
      " {}\n"
     ]
    },
    {
     "ename": "NameError",
     "evalue": "name 'diccionario' is not defined",
     "output_type": "error",
     "traceback": [
      "\u001b[1;31m---------------------------------------------------------------------------\u001b[0m",
      "\u001b[1;31mNameError\u001b[0m                                 Traceback (most recent call last)",
      "\u001b[1;32m~\\AppData\\Local\\Temp/ipykernel_19600/1461500545.py\u001b[0m in \u001b[0;36m<module>\u001b[1;34m\u001b[0m\n\u001b[0;32m     29\u001b[0m \u001b[1;33m\u001b[0m\u001b[0m\n\u001b[0;32m     30\u001b[0m \u001b[1;31m#Eliminar el diccionario\u001b[0m\u001b[1;33m\u001b[0m\u001b[1;33m\u001b[0m\u001b[0m\n\u001b[1;32m---> 31\u001b[1;33m \u001b[1;32mdel\u001b[0m \u001b[0mdiccionario\u001b[0m \u001b[1;33m;\u001b[0m\u001b[0mprint\u001b[0m\u001b[1;33m(\u001b[0m\u001b[1;34m\"\\n\"\u001b[0m\u001b[1;33m,\u001b[0m\u001b[0mdiccionario\u001b[0m\u001b[1;33m)\u001b[0m\u001b[1;33m\u001b[0m\u001b[1;33m\u001b[0m\u001b[0m\n\u001b[0m",
      "\u001b[1;31mNameError\u001b[0m: name 'diccionario' is not defined"
     ]
    }
   ],
   "source": [
    "#Recorrer elementos\n",
    "for clave,valor in diccionario.items():\n",
    "  print(clave,valor)\n",
    "else:\n",
    "  print(\"\")\n",
    "\n",
    "for clave in diccionario.keys():\n",
    "  print(clave)\n",
    "else:\n",
    "  print(\"\")\n",
    "\n",
    "for valor in diccionario.values():\n",
    "  print(valor)\n",
    "else:\n",
    "  print(\"\")\n",
    "\n",
    "#Comprobar que un elemento se encuentra en el diccionario\n",
    "print(\"IDE\" in diccionario)\n",
    "\n",
    "#Agregar elementos al diccionario\n",
    "diccionario['PK'] = \"Primary Key\"\n",
    "print(\"\\n\",diccionario)\n",
    "\n",
    "#Remover un elemento\n",
    "diccionario.pop(\"IDE\");print(\"\\n\",diccionario)\n",
    "\n",
    "#Limpiar el diccionario\n",
    "diccionario.clear();print(\"\\n\",diccionario)\n",
    "\n",
    "#Eliminar el diccionario\n",
    "del diccionario ;print(\"\\n\",diccionario)"
   ]
  },
  {
   "cell_type": "markdown",
   "metadata": {},
   "source": [
    "## Funciones"
   ]
  },
  {
   "cell_type": "markdown",
   "metadata": {},
   "source": [
    "- Parámetros: Cuando se está creando la función\n",
    "- Argumentos: Cuando se manda a llamar\n",
    "- (*args ) arguments => para un número indeninido de argumentos que guardará en una tupla\n",
    "- (**kwargs ) keyword-arguments => para simular un diccionario"
   ]
  },
  {
   "cell_type": "code",
   "execution_count": 85,
   "metadata": {},
   "outputs": [
    {
     "name": "stdout",
     "output_type": "stream",
     "text": [
      "Saludos desde la función\n",
      "----------\n",
      "Hola Juan Jasso\n",
      "----------\n",
      "El resultado de la suma es: 11.5\n",
      "----------\n",
      "El resultado de la suma es: 11.5\n",
      "----------\n",
      "30 \n",
      "----------\n",
      "0 \n",
      "----------\n",
      "<class 'tuple'>\n",
      "Hola\n",
      "1\n",
      "True\n",
      "0.5\n",
      "\n",
      "-------\n",
      "<class 'tuple'>\n",
      "Juan\n",
      "Dany\n",
      "\n",
      "-------\n"
     ]
    }
   ],
   "source": [
    "def miFuncion():\n",
    "  print(\"Saludos desde la función\\n----------\")\n",
    "miFuncion()\n",
    "\n",
    "def miFuncion2(nombre,apellido):\n",
    "  print(f\"Hola {nombre} {apellido}\\n----------\")\n",
    "miFuncion2(\"Juan\",\"Jasso\")\n",
    "\n",
    "def sumar(a,b):\n",
    "  return a+b\n",
    "resultado=sumar(5.5,6)\n",
    "print(f\"El resultado de la suma es: {resultado}\\n----------\")\n",
    "resultado2=sumar(b=5.5,a=6)\n",
    "print(f\"El resultado de la suma es: {resultado2}\\n----------\")\n",
    "\n",
    "\n",
    "def multiplicar(a=0,b=1):\n",
    "  res=a*b\n",
    "  print(res,\"\\n----------\")\n",
    "multiplicar(5,6)\n",
    "multiplicar()\n",
    "\n",
    "# Número de argumentos variable\n",
    "def listarDatos(*lista):\n",
    "  print(type(lista))\n",
    "  for elemento in lista:\n",
    "    print(elemento)\n",
    "  else:\n",
    "    print(\"\\n-------\")\n",
    "listarDatos(\"Hola\",1,True,0.5)\n",
    "listarDatos(\"Juan\",\"Dany\")\n"
   ]
  },
  {
   "cell_type": "code",
   "execution_count": 93,
   "metadata": {},
   "outputs": [
    {
     "name": "stdout",
     "output_type": "stream",
     "text": [
      "<class 'dict'>\n",
      "clave: Nombre  valor: Juan \n",
      "clave: Apellido  valor: Jasso \n",
      "\n",
      "\n",
      "El nombre de la empresa es: ICA\n",
      "Los nombres del propietario son: \n",
      "clave: nombres  valor: ('Carlos', 'Slim') \n",
      "clave: direccion  valor: {'País': 'Korea', 'Casa': 'Amarilla'} \n"
     ]
    }
   ],
   "source": [
    "def listarTerminos(**kwargs):\n",
    "  print(type(kwargs))\n",
    "  for clave,valor in kwargs.items():\n",
    "    print(f\"clave: {clave}  valor: {valor} \")\n",
    "listarTerminos(Nombre=\"Juan\",Apellido=\"Jasso\");print(\"\\n\")\n",
    "\n",
    "def multiFuncion(empresa,*nombres,**direccion):\n",
    "  print(f\"El nombre de la empresa es: {empresa}\")\n",
    "  name=\"\"\n",
    "  for nombre in nombres:\n",
    "    name+=\" \"+nombres\n",
    "  print(f\"Los nombres del propietario son: {name}\")\n",
    "  for clave,valor in direccion.items():\n",
    "    print(f\"clave: {clave}  valor: {valor} \")\n",
    "multiFuncion(empresa=\"ICA\",\n",
    "            nombres=(\"Carlos\",\"Slim\"),\n",
    "            direccion={\"País\":\"Korea\",\n",
    "                      \"Casa\":\"Amarilla\"});print(\"\\n\")"
   ]
  },
  {
   "cell_type": "code",
   "execution_count": 98,
   "metadata": {},
   "outputs": [
    {
     "name": "stdout",
     "output_type": "stream",
     "text": [
      "Juan\n",
      "Carlos\n",
      "Daniela\n",
      "\n",
      "\n",
      "A\n",
      "n\n",
      "d\n",
      "r\n",
      "e\n",
      "a\n",
      "\n",
      "\n",
      "1\n",
      "2\n",
      "3\n",
      "4\n",
      "5\n",
      "\n",
      "\n"
     ]
    }
   ],
   "source": [
    "lista_nombres=[\"Juan\",\"Carlos\",\"Daniela\"]\n",
    "name= \"Andrea\"\n",
    "tupla=(1,2,3,4,5)\n",
    "def desplegarNombres(lista):\n",
    "  for nombre in lista:\n",
    "    print(nombre)\n",
    "desplegarNombres(lista_nombres);print(\"\\n\")\n",
    "desplegarNombres(name);print(\"\\n\")\n",
    "desplegarNombres(tupla);print(\"\\n\")"
   ]
  },
  {
   "cell_type": "code",
   "execution_count": 5,
   "metadata": {},
   "outputs": [
    {
     "name": "stdout",
     "output_type": "stream",
     "text": [
      "120\n",
      "120\n"
     ]
    }
   ],
   "source": [
    "# Funciones recursivas\n",
    "\n",
    "def factorial(numero):\n",
    "  acumulador=1\n",
    "  numero2=numero\n",
    "  for i in range(numero):\n",
    "    acumulador*=numero2\n",
    "    numero2=numero2-1\n",
    "  print(acumulador)\n",
    "factorial(5)\n",
    "\n",
    "def factorial2(numero):\n",
    "  if numero==1:\n",
    "    return 1\n",
    "  else:\n",
    "    return numero*factorial2(numero-1)\n",
    "\n",
    "resultado2=factorial2(5)\n",
    "print(resultado2)\n",
    "  \n"
   ]
  },
  {
   "cell_type": "code",
   "execution_count": 10,
   "metadata": {},
   "outputs": [
    {
     "name": "stdout",
     "output_type": "stream",
     "text": [
      "La temperatura en farenheit es: 41.000\n"
     ]
    }
   ],
   "source": [
    "def farenheit(celsious):\n",
    "  res= (celsious*(9/5))+32\n",
    "  print(f\"La temperatura en farenheit es: {res:0.3f}\")\n",
    "\n",
    "celsious=int(input(\"Ingrese temperatura en celsious\"))\n",
    "farenheit(celsious)"
   ]
  }
 ],
 "metadata": {
  "kernelspec": {
   "display_name": "Python 3.9.7 ('base')",
   "language": "python",
   "name": "python3"
  },
  "language_info": {
   "codemirror_mode": {
    "name": "ipython",
    "version": 3
   },
   "file_extension": ".py",
   "mimetype": "text/x-python",
   "name": "python",
   "nbconvert_exporter": "python",
   "pygments_lexer": "ipython3",
   "version": "3.9.7"
  },
  "orig_nbformat": 4,
  "vscode": {
   "interpreter": {
    "hash": "0408a15bde4df7e1ccfa8996ed5867eae97259219572d775f1f8a0b3c578a930"
   }
  }
 },
 "nbformat": 4,
 "nbformat_minor": 2
}
