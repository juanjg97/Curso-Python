{
 "cells": [
  {
   "cell_type": "code",
   "execution_count": 1,
   "metadata": {},
   "outputs": [
    {
     "name": "stdout",
     "output_type": "stream",
     "text": [
      "0\n",
      "3\n",
      "6\n",
      "9\n"
     ]
    }
   ],
   "source": [
    "for i in range(0,11,3):\n",
    "  print(i)\n"
   ]
  },
  {
   "cell_type": "code",
   "execution_count": 1,
   "metadata": {},
   "outputs": [
    {
     "name": "stdout",
     "output_type": "stream",
     "text": [
      "[1, 3, 2]\n"
     ]
    }
   ],
   "source": [
    "tupla = (12,1,8,3,2,5,8)\n",
    "lista=[]\n",
    "for elemento in tupla:\n",
    "  if elemento < 5:\n",
    "    lista.append(elemento)\n",
    "print(lista)"
   ]
  },
  {
   "cell_type": "code",
   "execution_count": 6,
   "metadata": {},
   "outputs": [
    {
     "name": "stdout",
     "output_type": "stream",
     "text": [
      "El resultado de la suma es: 10\n",
      "El resultado de la multiplicación es: 30\n"
     ]
    }
   ],
   "source": [
    "def sumar(*args):\n",
    "  acumulador=0\n",
    "  for elemento in args:\n",
    "    acumulador+=elemento\n",
    "  print(f\"El resultado de la suma es: {acumulador}\")\n",
    "sumar(5,2,3)\n",
    "\n",
    "def multiplicar(*args):\n",
    "  acumulador=1\n",
    "  for elemento in args:\n",
    "    acumulador*=elemento\n",
    "  print(f\"El resultado de la multiplicación es: {acumulador}\")\n",
    "\n",
    "multiplicar(5,2,3)"
   ]
  },
  {
   "cell_type": "code",
   "execution_count": 2,
   "metadata": {},
   "outputs": [
    {
     "name": "stdout",
     "output_type": "stream",
     "text": [
      "El área del rectángulo es: 6\n",
      "El perímetro del rectángulo es: 10\n"
     ]
    }
   ],
   "source": [
    "class Rectangulo:\n",
    "  def __init__(self,base,altura):\n",
    "    self.base=base\n",
    "    self.altura=altura\n",
    "  def area(self):\n",
    "    area_rectangulo=self.base*self.altura\n",
    "    print(f\"El área del rectángulo es: {area_rectangulo}\")\n",
    "  def perimetro(self):\n",
    "    perimetro_rectangulo=(2*self.base)+(2*self.altura)\n",
    "    print(f\"El perímetro del rectángulo es: {perimetro_rectangulo}\")\n",
    "\n",
    "rectangulo1=Rectangulo(2,3)\n",
    "rectangulo1.area()\n",
    "rectangulo1.perimetro()\n",
    "\n"
   ]
  },
  {
   "cell_type": "code",
   "execution_count": 6,
   "metadata": {},
   "outputs": [],
   "source": [
    "class Vehiculo():\n",
    "  def __init__(self,color,ruedas):\n",
    "    self._color=color\n",
    "    self._ruedas=ruedas\n",
    "  #Overide de la funcion str\n",
    "  def __str__(self):\n",
    "    return f'Vehículo: [color: {self._color}, ruedas: {self._ruedas}]'\n",
    "  #Métodos get y set para cada atributo\n",
    "  @property\n",
    "  def color(self):\n",
    "    return self._color\n",
    "  @color.setter\n",
    "  def color(self,color):\n",
    "    self._color=color\n",
    "  @property\n",
    "  def ruedas(self):\n",
    "    return self._ruedas\n",
    "  @ruedas.setter\n",
    "  def ruedas(self,ruedas):\n",
    "    self._ruedas=ruedas\n",
    "  \n",
    "class Coche(Vehiculo):\n",
    "  #Se agregan los atributos del padre\n",
    "  def __init__(self,color,ruedas,velocidad):\n",
    "    #Hereda atributos de super\n",
    "    super().__init__(color,ruedas)\n",
    "    self._veocidad=velocidad\n",
    "  @property\n",
    "  def velocidad(self):\n",
    "    return self._velocidad\n",
    "  @velocidad.setter\n",
    "  def velocidad(self,velocidad):\n",
    "    self._velocidad=velocidad\n",
    "  def __str__(self):\n",
    "    return f'{super().__str__()} Coche [velocidad: {self._velocidad}]'\n",
    "\n",
    "class Bicicleta(Vehiculo):\n",
    "  def __init__(self,color,ruedas,tipo):\n",
    "    super().__init__(color,ruedas)\n",
    "    self._tipo=tipo\n",
    "  @property\n",
    "  def tipo(self):\n",
    "    return self._tipo\n",
    "  @tipo.setter\n",
    "  def tipo(self,tipo):\n",
    "    self._tipo=tipo\n",
    "  def __str__(self):\n",
    "    return f'{super().__str__} Bicicleta [tipo: {self._tipo}]'\n",
    "  "
   ]
  },
  {
   "cell_type": "code",
   "execution_count": null,
   "metadata": {},
   "outputs": [],
   "source": []
  }
 ],
 "metadata": {
  "kernelspec": {
   "display_name": "Python 3.9.7 ('base')",
   "language": "python",
   "name": "python3"
  },
  "language_info": {
   "codemirror_mode": {
    "name": "ipython",
    "version": 3
   },
   "file_extension": ".py",
   "mimetype": "text/x-python",
   "name": "python",
   "nbconvert_exporter": "python",
   "pygments_lexer": "ipython3",
   "version": "3.9.7"
  },
  "orig_nbformat": 4,
  "vscode": {
   "interpreter": {
    "hash": "0408a15bde4df7e1ccfa8996ed5867eae97259219572d775f1f8a0b3c578a930"
   }
  }
 },
 "nbformat": 4,
 "nbformat_minor": 2
}
