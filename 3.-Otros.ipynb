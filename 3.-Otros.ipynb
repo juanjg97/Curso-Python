{
 "cells": [
  {
   "cell_type": "markdown",
   "metadata": {},
   "source": [
    "## Manejo de Excepciones"
   ]
  },
  {
   "cell_type": "markdown",
   "metadata": {},
   "source": [
    "- Al principio deben ir los errores específicos\n",
    "- Al final debe ir el error Exception más genérico"
   ]
  },
  {
   "cell_type": "code",
   "execution_count": 3,
   "metadata": {},
   "outputs": [
    {
     "name": "stdout",
     "output_type": "stream",
     "text": [
      "Ocurrió un error de tipo: division by zero\n",
      "Ocurrió un error de tipo: division by zero\n"
     ]
    }
   ],
   "source": [
    "#Capturar a nivel general\n",
    "try:\n",
    "  10/0\n",
    "except Exception as exeption_type:\n",
    "  print(f'Ocurrió un error de tipo: {exeption_type}')\n",
    "# Capturar a nivel específico\n",
    "try:\n",
    "  10/0\n",
    "except ZeroDivisionError as exeption_type:\n",
    "  print(f'Ocurrió un error de tipo: {exeption_type}')"
   ]
  },
  {
   "cell_type": "code",
   "execution_count": 6,
   "metadata": {},
   "outputs": [
    {
     "name": "stdout",
     "output_type": "stream",
     "text": [
      "Resultado: None\n",
      "Existe un error de tipo: division by zero\n",
      "Continuamos...\n",
      "\n",
      "Resultado: None\n",
      "Existe un error de tipo: unsupported operand type(s) for /: 'str' and 'int'\n",
      "Continuamos...\n"
     ]
    }
   ],
   "source": [
    "resultado = None\n",
    "a=10\n",
    "b=0\n",
    "try:\n",
    "  resultado=a/b\n",
    "except Exception as exception_type:\n",
    "  print(f'Resultado: {resultado}')\n",
    "  print(f\"Existe un error de tipo: {exception_type}\")\n",
    "  print(\"Continuamos...\\n\")\n",
    "\n",
    "a='10'\n",
    "b=0\n",
    "try:\n",
    "  resultado=a/b\n",
    "except Exception as exception_type:\n",
    "  print(f'Resultado: {resultado}')\n",
    "  print(f\"Existe un error de tipo: {exception_type}\")\n",
    "  print(\"Continuamos...\")"
   ]
  },
  {
   "cell_type": "code",
   "execution_count": 7,
   "metadata": {},
   "outputs": [
    {
     "name": "stdout",
     "output_type": "stream",
     "text": [
      "Resultado: None\n",
      "Existe un error de tipo: division by zero\n",
      "Continuamos...\n",
      "\n"
     ]
    }
   ],
   "source": [
    "resultado = None\n",
    "a=10\n",
    "b=0\n",
    "try:\n",
    "  resultado=a/b\n",
    "except ZeroDivisionError as exception_type:\n",
    "  print(f'Resultado: {resultado}')\n",
    "  print(f\"Existe un error de tipo: {exception_type}\")\n",
    "  print(\"Continuamos...\\n\")\n",
    "except TypeError as exception_type:\n",
    "  print(f'Resultado: {resultado}')\n",
    "  print(f\"Existe un error de tipo: {exception_type}\")\n",
    "  print(\"Continuamos...\\n\")"
   ]
  },
  {
   "cell_type": "code",
   "execution_count": 22,
   "metadata": {},
   "outputs": [
    {
     "name": "stdout",
     "output_type": "stream",
     "text": [
      "\n",
      "--------------------------\n",
      "=> Resultado: None\n",
      "=> Existe un error de tipo: division by zero\n",
      "Gracias por probar el código\n",
      "\n",
      "--------------------------\n",
      "=> Resultado: None\n",
      "=> Existe un error de tipo: unsupported operand type(s) for /: 'int' and 'str'\n",
      "Gracias por probar el código\n",
      "\n",
      "--------------------------\n",
      "=> No ocurrieron errores\n",
      "Gracias por probar el código\n"
     ]
    }
   ],
   "source": [
    "def prueba(a,b):\n",
    "  print(\"\\n--------------------------\")\n",
    "  resultado = None\n",
    "  try:\n",
    "    resultado=a/b\n",
    "  except Exception as exception_type:\n",
    "    print(f'=> Resultado: {resultado}')\n",
    "    print(f\"=> Existe un error de tipo: {exception_type}\")\n",
    "  else:\n",
    "    print(\"=> No ocurrieron errores\")\n",
    "  finally:\n",
    "    print(\"Gracias por probar el código\")\n",
    "\n",
    "a=10;b=0\n",
    "prueba(a,b)\n",
    "\n",
    "a=10;b='0'\n",
    "prueba(a,b)\n",
    "\n",
    "a=10;b=1\n",
    "prueba(a,b)"
   ]
  },
  {
   "cell_type": "markdown",
   "metadata": {},
   "source": [
    "### Excepciones personalizadas"
   ]
  },
  {
   "cell_type": "code",
   "execution_count": 25,
   "metadata": {},
   "outputs": [
    {
     "name": "stdout",
     "output_type": "stream",
     "text": [
      "\n",
      "--------------------------\n",
      "=> No ocurrieron errores, números diferentes\n",
      "Gracias por probar el código\n",
      "\n",
      "--------------------------\n",
      "=> Existe un error de tipo: Números Idénticos\n",
      "Gracias por probar el código\n"
     ]
    }
   ],
   "source": [
    "class NumerosIdenticos(Exception):\n",
    "  def __init__(self,message):\n",
    "    self.message = message\n",
    "\n",
    "\n",
    "def prueba(a,b):\n",
    "  print(\"\\n--------------------------\")\n",
    "  try:\n",
    "    if a ==b:\n",
    "      raise NumerosIdenticos('Números Idénticos')\n",
    "  except Exception as exception_type:\n",
    "    print(f\"=> Existe un error de tipo: {exception_type}\")\n",
    "  else:\n",
    "    print(\"=> No ocurrieron errores, números diferentes\")\n",
    "  finally:\n",
    "    print(\"Gracias por probar el código\")\n",
    "\n",
    "a=10;b=0\n",
    "prueba(a,b)\n",
    "\n",
    "a=10;b=10\n",
    "prueba(a,b)"
   ]
  },
  {
   "cell_type": "markdown",
   "metadata": {},
   "source": [
    "## Manejo de archivos"
   ]
  },
  {
   "cell_type": "markdown",
   "metadata": {},
   "source": [
    "### Parámetros\n",
    "- Para agregar las rutras usamos doble diagonal inversa \"\\\\\", en linux o mac, sólo se usa diagonal hacia delanta \"/\"\n",
    "- 'r' Read => Abre un archivo, error si no existe\n",
    "- 'a' Append => Abre un archivo para anexar contenido, es decir, no se sobre escribe, crea el archivo si no existe\n",
    "- 'w' Write => Abre el archivo para permitir escribir en él, si no existe lo creo\n",
    "- 'x' Create => Crea el archivo específico, marca error si el archivo existe\n",
    "- 't' Text => Valor por defecto\n",
    "'b' Binary => Modo binario para archivos como fotos\n",
    "- w+ ó r+ => Para leer y escribir"
   ]
  },
  {
   "cell_type": "code",
   "execution_count": 1,
   "metadata": {},
   "outputs": [],
   "source": [
    "#Si se ejecuta por primera vez y no existe el archivo lo crea\n",
    "try:  \n",
    "  archivo = open('prueba.txt','w')\n",
    "except Exception as e:\n",
    "  print(e)\n",
    "finally:\n",
    "  archivo.close()"
   ]
  },
  {
   "cell_type": "code",
   "execution_count": 38,
   "metadata": {},
   "outputs": [
    {
     "name": "stdout",
     "output_type": "stream",
     "text": [
      "El archivo se ha abierto y agregado información\n",
      "El archivo se ha cerrado\n"
     ]
    }
   ],
   "source": [
    "#Cuando se ejecute el archivo va a sobreescribir siempre\n",
    "try:\n",
    "  print(\"El archivo se ha abierto y agregado información\")  \n",
    "  archivo = open('prueba.txt','w',encoding='utf8')\n",
    "  archivo.write('Agregando información al archivo\\n')\n",
    "  archivo.write(\"Hola\")\n",
    "except Exception as e:\n",
    "  print(e)\n",
    "finally:\n",
    "  print(\"El archivo se ha cerrado\")\n",
    "  archivo.close()"
   ]
  },
  {
   "cell_type": "code",
   "execution_count": 25,
   "metadata": {},
   "outputs": [
    {
     "name": "stdout",
     "output_type": "stream",
     "text": [
      "Agregando información al archivo\n",
      "Hola\n"
     ]
    }
   ],
   "source": [
    "archivo = open('prueba.txt','r',encoding='utf-8')\n",
    "print(archivo.read())"
   ]
  },
  {
   "cell_type": "code",
   "execution_count": 26,
   "metadata": {},
   "outputs": [
    {
     "name": "stdout",
     "output_type": "stream",
     "text": [
      "Agreg\n"
     ]
    }
   ],
   "source": [
    "archivo = open('prueba.txt','r',encoding='utf-8')\n",
    "print(archivo.read(5))"
   ]
  },
  {
   "cell_type": "code",
   "execution_count": 27,
   "metadata": {},
   "outputs": [
    {
     "name": "stdout",
     "output_type": "stream",
     "text": [
      "Agregando información al archivo\n",
      "\n"
     ]
    }
   ],
   "source": [
    "archivo = open('prueba.txt','r',encoding='utf-8')\n",
    "print(archivo.readline())"
   ]
  },
  {
   "cell_type": "code",
   "execution_count": 42,
   "metadata": {},
   "outputs": [
    {
     "name": "stdout",
     "output_type": "stream",
     "text": [
      "Hola este es un archivo creado en una ruta diferente\n",
      "\n"
     ]
    }
   ],
   "source": [
    "path=\"C:\\\\Users\\\\Omen\\\\Documents\\\\2-Repositorios\\\\UDEMY\\\\Curso-Python\\\\Recursos\\\\hola.txt\"\n",
    "archivo2 = open(path,'r',encoding='utf-8')\n",
    "print(archivo2.readline())"
   ]
  },
  {
   "cell_type": "code",
   "execution_count": 44,
   "metadata": {},
   "outputs": [
    {
     "name": "stdout",
     "output_type": "stream",
     "text": [
      "Hola este es un archivo creado en una ruta diferente\n",
      "para abrirlo es necesario específicar el path\n",
      "completo a esta ubicación\n",
      "\n"
     ]
    }
   ],
   "source": [
    "archivo2 = open(path,'r',encoding='utf-8')\n",
    "# Iterar en el archivo\n",
    "print(archivo2.read())\n",
    "for linea in archivo2:\n",
    "  print(linea)"
   ]
  },
  {
   "cell_type": "code",
   "execution_count": 47,
   "metadata": {},
   "outputs": [
    {
     "name": "stdout",
     "output_type": "stream",
     "text": [
      "['Hola este es un archivo creado en una ruta diferente\\n', 'para abrirlo es necesario específicar el path\\n', 'completo a esta ubicación\\n']\n",
      "----------------\n",
      "para abrirlo es necesario específicar el path\n",
      "\n"
     ]
    }
   ],
   "source": [
    "archivo2 = open(path,'r',encoding='utf-8')\n",
    "lista=archivo2.readlines()\n",
    "print(lista)\n",
    "print(\"----------------\")\n",
    "print(lista[1])"
   ]
  },
  {
   "cell_type": "code",
   "execution_count": 51,
   "metadata": {},
   "outputs": [],
   "source": [
    "archivo.close();archivo2.close()"
   ]
  },
  {
   "cell_type": "code",
   "execution_count": 74,
   "metadata": {},
   "outputs": [],
   "source": [
    "archivo3 = open('anexo.txt','a')\n",
    "archivo3 = open('anexo.txt','a',encoding='utf8')\n",
    "archivo3.write(\"En este archivo no se sobre escribe\\n\")\n",
    "for i in range(5):\n",
    "  archivo3.write(f\"Agregando el renglón {i}\\n\")\n",
    "archivo3.close()"
   ]
  },
  {
   "cell_type": "code",
   "execution_count": 73,
   "metadata": {},
   "outputs": [
    {
     "data": {
      "text/plain": [
       "'En este archivo no se sobre escribe\\nAgregando el renglón 0\\nAgregando el renglón 1\\nAgregando el renglón 2\\nAgregando el renglón 3\\nAgregando el renglón 4\\n'"
      ]
     },
     "execution_count": 73,
     "metadata": {},
     "output_type": "execute_result"
    }
   ],
   "source": [
    "archivo3 = open('anexo.txt','r',encoding='utf8')\n",
    "archivo3.read()\n"
   ]
  },
  {
   "cell_type": "markdown",
   "metadata": {},
   "source": []
  },
  {
   "cell_type": "markdown",
   "metadata": {},
   "source": [
    "## Uso de with"
   ]
  },
  {
   "cell_type": "code",
   "execution_count": 77,
   "metadata": {},
   "outputs": [
    {
     "name": "stdout",
     "output_type": "stream",
     "text": [
      "Agregando información al archivo\n",
      "Hola\n"
     ]
    }
   ],
   "source": [
    "#Con esta sintaxis el archivo se cierra automáticamente\n",
    "with open('prueba.txt','r',encoding='utf8') as archivox:\n",
    "  print(archivox.read())"
   ]
  },
  {
   "cell_type": "markdown",
   "metadata": {},
   "source": [
    "### Context Manager o Administrador de recursos"
   ]
  },
  {
   "cell_type": "code",
   "execution_count": 79,
   "metadata": {},
   "outputs": [
    {
     "name": "stdout",
     "output_type": "stream",
     "text": [
      "---------------Obtenemos el recurso---------------\n",
      "Agregando información al archivo\n",
      "Hola\n",
      "---------------Cerramos el recurso----------------\n"
     ]
    }
   ],
   "source": [
    "class ManejoArchivos():\n",
    "  def __init__(self,nombre):\n",
    "    self.nombre=nombre\n",
    "  def __enter__(self):\n",
    "    print(\"Obtenemos el recurso\".center(50,'-'))\n",
    "    self.nombre=open(self.nombre,'r',encoding='utf8')\n",
    "    return self.nombre\n",
    "  def __exit__(self,tipo_excepcion,valor_excepcion,traza_error):\n",
    "    print(\"Cerramos el recurso\".center(50,'-'))\n",
    "    if self.nombre:\n",
    "      self.nombre.close()\n",
    "\n",
    "\n",
    "with ManejoArchivos('prueba.txt') as archivo_prueba:\n",
    "  print(archivo_prueba.read())"
   ]
  },
  {
   "cell_type": "code",
   "execution_count": null,
   "metadata": {},
   "outputs": [],
   "source": []
  }
 ],
 "metadata": {
  "kernelspec": {
   "display_name": "Python 3.9.7 ('base')",
   "language": "python",
   "name": "python3"
  },
  "language_info": {
   "codemirror_mode": {
    "name": "ipython",
    "version": 3
   },
   "file_extension": ".py",
   "mimetype": "text/x-python",
   "name": "python",
   "nbconvert_exporter": "python",
   "pygments_lexer": "ipython3",
   "version": "3.9.7"
  },
  "orig_nbformat": 4,
  "vscode": {
   "interpreter": {
    "hash": "0408a15bde4df7e1ccfa8996ed5867eae97259219572d775f1f8a0b3c578a930"
   }
  }
 },
 "nbformat": 4,
 "nbformat_minor": 2
}
