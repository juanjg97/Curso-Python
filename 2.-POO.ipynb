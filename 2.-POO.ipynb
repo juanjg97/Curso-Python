{
 "cells": [
  {
   "cell_type": "markdown",
   "metadata": {},
   "source": [
    "## Clases y Objetos"
   ]
  },
  {
   "cell_type": "markdown",
   "metadata": {},
   "source": [
    "- Necesitamos usar init para agregar y trabajar con atributos, es parecido a un constructor \n",
    "- Le pasamos a init el atributo self, para hacer una referencia al objeto en si mismo\n",
    "- Doble underscore o dunder => dunder init, métodos dunder\n",
    "- Existen atributos a nivel clase y a nivel objeto, de momento vamos a trabajar con objetos a nivel objeto, también atributos de instancia"
   ]
  },
  {
   "cell_type": "markdown",
   "metadata": {},
   "source": [
    "## Introducción"
   ]
  },
  {
   "cell_type": "code",
   "execution_count": 53,
   "metadata": {},
   "outputs": [
    {
     "name": "stdout",
     "output_type": "stream",
     "text": [
      "<class 'type'>\n",
      "<__main__.Persona object at 0x000002C13ABC88E0>\n",
      "Juan\n"
     ]
    }
   ],
   "source": [
    "class Persona:\n",
    "  def __init__(self):\n",
    "    self.nombre='Juan'\n",
    "    self.apellido='Jasso'\n",
    "    self.edad=28\n",
    "\n",
    "#Creamos una instancia de la clase persona\n",
    "persona1=Persona() #Mandamos a llamar de manera indirecta al objeto init\n",
    "\n",
    "print(type(Persona))\n",
    "print(persona1)\n",
    "print(persona1.nombre)"
   ]
  },
  {
   "cell_type": "code",
   "execution_count": 54,
   "metadata": {},
   "outputs": [
    {
     "name": "stdout",
     "output_type": "stream",
     "text": [
      "\n",
      "Daniela Moreno 25\n",
      "Andrea Mota 18\n",
      "\n"
     ]
    }
   ],
   "source": [
    "class Persona:\n",
    "  def __init__(self,nombre,apellido,edad):\n",
    "    #atributo = parámetro\n",
    "    self.nombre=nombre\n",
    "    self.apellido=apellido\n",
    "    self.edad=edad\n",
    "\n",
    "persona2=Persona(\"Daniela\",\"Moreno\",25)\n",
    "persona3=Persona(edad=18,apellido=\"Mota\",nombre=\"Andrea\")\n",
    "\n",
    "print(f\"\"\"\n",
    "{persona2.nombre} {persona2.apellido} {persona2.edad}\n",
    "{persona3.nombre} {persona3.apellido} {persona3.edad}\n",
    "\"\"\")"
   ]
  },
  {
   "cell_type": "markdown",
   "metadata": {},
   "source": [
    "Al igual que en los arreglos, si asignamos a un objeto otro, se asigna en memoria, por lo cual todos los cambios sobre el segundo objeto afectaran al primero"
   ]
  },
  {
   "cell_type": "code",
   "execution_count": 55,
   "metadata": {},
   "outputs": [
    {
     "name": "stdout",
     "output_type": "stream",
     "text": [
      "Andrea Mota 18\n",
      "Andrea\n"
     ]
    }
   ],
   "source": [
    "import copy\n",
    "persona4 = copy.copy(persona3)\n",
    "\n",
    "print(persona4.nombre,persona4.apellido,persona4.edad)\n",
    "persona4.nombre = \"Karla\"\n",
    "print(persona3.nombre)"
   ]
  },
  {
   "cell_type": "code",
   "execution_count": 56,
   "metadata": {},
   "outputs": [
    {
     "name": "stdout",
     "output_type": "stream",
     "text": [
      "Andrea Mota 18\n",
      "Karla\n"
     ]
    }
   ],
   "source": [
    "persona4=persona3\n",
    "print(persona4.nombre,persona4.apellido,persona4.edad)\n",
    "persona4.nombre = \"Karla\"\n",
    "print(persona3.nombre)"
   ]
  },
  {
   "cell_type": "markdown",
   "metadata": {},
   "source": [
    "## Métodos"
   ]
  },
  {
   "cell_type": "code",
   "execution_count": 57,
   "metadata": {},
   "outputs": [
    {
     "name": "stdout",
     "output_type": "stream",
     "text": [
      "Hola, mi nombre es: Daniela y tengo un carro BMW\n"
     ]
    }
   ],
   "source": [
    "#Clase con métodos y atributos\n",
    "\n",
    "class Persona:\n",
    "  def __init__(self,nombre,apellido,edad):\n",
    "    self.nombre=nombre\n",
    "    self.apellido=apellido\n",
    "    self.edad=edad\n",
    "  \n",
    "  def saludar(self,carro): #El parámetro de self se agrega a todos los métodos de instancia\n",
    "    print(f\"Hola, mi nombre es: {self.nombre} y tengo un carro {carro}\")\n",
    "\n",
    "persona6=Persona(\"Daniela\",\"Moreno\",25)\n",
    "persona6.saludar(\"BMW\")\n"
   ]
  },
  {
   "cell_type": "code",
   "execution_count": 58,
   "metadata": {},
   "outputs": [
    {
     "name": "stdout",
     "output_type": "stream",
     "text": [
      "MiniCar\n"
     ]
    }
   ],
   "source": [
    "#Podemos usar la palabra this, al igual que en otros lenguajes\n",
    "\n",
    "class Carro:\n",
    "  def __init__(this,marca,modelo,año):\n",
    "    this.marca=marca\n",
    "    this.modelo=modelo\n",
    "    this.año=año\n",
    "\n",
    "carro1=Carro(\"BMW\",\"M4\",2022)\n",
    "\n",
    "#Agregamos atributos a parte, que sólo tendran esos objetos\n",
    "carro1.agencia = \"MiniCar\"\n",
    "print(carro1.agencia)"
   ]
  },
  {
   "cell_type": "markdown",
   "metadata": {},
   "source": [
    "#### Método Init"
   ]
  },
  {
   "cell_type": "markdown",
   "metadata": {},
   "source": [
    "- *args : argumentos variables para una tupla\n",
    "- **kwargs: argumentos variables para un diccionario"
   ]
  },
  {
   "cell_type": "code",
   "execution_count": 59,
   "metadata": {},
   "outputs": [
    {
     "name": "stdout",
     "output_type": "stream",
     "text": [
      "Persona: Juan Perez 28\n",
      "Persona: ('44553322', 2, 3, 5) {'m': 'manzana', 'p': 'pera'}\n",
      "-----------------------\n",
      "Persona: Karla Gomez 30\n",
      "Persona: () {}\n",
      "El nombre de la empresa es: ICA\n",
      "Los nombres del propietario son: \n",
      "clave: nombres  valor: ('Carlos', 'Slim') \n",
      "clave: direccion  valor: {'País': 'Korea', 'Casa': 'Amarilla'} \n",
      "\n",
      "\n"
     ]
    }
   ],
   "source": [
    "class Persona:\n",
    "    def __init__(self, nombre, apellido, edad, *valores, **terminos):\n",
    "        self.nombre = nombre\n",
    "        self.apellido = apellido\n",
    "        self.edad = edad\n",
    "        self.valores = valores\n",
    "        self.terminos = terminos\n",
    "\n",
    "    def mostrar_detalle(self):\n",
    "        print(f'Persona: {self.nombre} {self.apellido} {self.edad}')\n",
    "        print(f'Persona: {self.valores} {self.terminos}')\n",
    "\n",
    "persona1 = Persona('Juan', 'Perez', 28, '44553322', 2, 3, 5, m='manzana', p='pera')\n",
    "persona1.mostrar_detalle()\n",
    "print(\"-----------------------\")\n",
    "persona2 = Persona('Karla', 'Gomez', 30)\n",
    "persona2.mostrar_detalle()\n",
    "\n",
    "#### Otra manera de ingresar args y kwargs\n",
    "def multiFuncion(empresa,*nombres,**direccion):\n",
    "  print(f\"El nombre de la empresa es: {empresa}\")\n",
    "  name=\"\"\n",
    "  for nombre in nombres:\n",
    "    name+=\" \"+nombres\n",
    "  print(f\"Los nombres del propietario son: {name}\")\n",
    "  for clave,valor in direccion.items():\n",
    "    print(f\"clave: {clave}  valor: {valor} \")\n",
    "multiFuncion(empresa=\"ICA\",\n",
    "            nombres=(\"Carlos\",\"Slim\"),\n",
    "            direccion={\"País\":\"Korea\",\n",
    "                      \"Casa\":\"Amarilla\"});print(\"\\n\")"
   ]
  },
  {
   "cell_type": "markdown",
   "metadata": {},
   "source": [
    "## Encapsulamiento"
   ]
  },
  {
   "cell_type": "markdown",
   "metadata": {},
   "source": [
    "- Antes habíamos usado atributos públicos, con los cuales podíamos cambiar directamente sus valores fuera de la clase\n",
    "- Se agrega un guión bajo y se debe entender que el atributo se debe cambiar desde la clase\n",
    "- Si se agrega doble guión bajo, no dará error, pero omitirá los cambios"
   ]
  },
  {
   "cell_type": "code",
   "execution_count": 60,
   "metadata": {},
   "outputs": [
    {
     "name": "stdout",
     "output_type": "stream",
     "text": [
      "Persona: Juan Perez 28\n",
      "Persona: Juan Perez 28\n"
     ]
    }
   ],
   "source": [
    "class Persona:\n",
    "    def __init__(self, nombre, apellido, edad):\n",
    "        self._nombre = nombre\n",
    "        self.__apellido = apellido\n",
    "        self.edad = edad\n",
    "    def mostrar_detalle(self):\n",
    "        print(f'Persona: {self._nombre} {self.__apellido} {self.edad}')\n",
    "\n",
    "\n",
    "persona1 = Persona('Juan', 'Perez', 28)\n",
    "persona1.mostrar_detalle()\n",
    "\n",
    "persona1.nombre=\"Carlos\"\n",
    "persona1.apellido=\"Jasso\"\n",
    "persona1.mostrar_detalle()"
   ]
  },
  {
   "cell_type": "markdown",
   "metadata": {},
   "source": [
    "### Método Get y Set\n",
    "- Get: Perimte acceder a la información para visualizarla\n",
    "- Set: Permite modificar la información para cambiarla\n",
    "- Se define un método get y set por cada atributo\n",
    "- Usamos un decorador para modificar el comportamiento del método"
   ]
  },
  {
   "cell_type": "code",
   "execution_count": 61,
   "metadata": {},
   "outputs": [
    {
     "name": "stdout",
     "output_type": "stream",
     "text": [
      "Persona: Juan Perez 28\n",
      "---------------\n",
      "El nombre de la persona1 es: Juan\n",
      "Persona: Daniela Perez 28\n"
     ]
    }
   ],
   "source": [
    "class Persona:\n",
    "  def __init__(self, nombre, apellido, edad):\n",
    "      self._nombre = nombre\n",
    "      self.apellido = apellido\n",
    "      self.edad = edad\n",
    "#Métodos get y set\n",
    "  @property\n",
    "  def nombre(self):\n",
    "    return self._nombre\n",
    "  @nombre.setter\n",
    "  def nombre(self,nombre):\n",
    "    self._nombre=nombre\n",
    "\n",
    "  def mostrar_detalle(self):\n",
    "      print(f'Persona: {self._nombre} {self.apellido} {self.edad}')\n",
    "\n",
    "persona1 = Persona('Juan', 'Perez', 28)\n",
    "persona1.mostrar_detalle();print(\"---------------\")\n",
    "\n",
    "#Los métodos get y set tienen el mismo nombre y se usan de manera diferentes,\n",
    "#debido al decorador\n",
    "#Accedemos al atributo con el método, ya no es necesario el parentesis\n",
    "print(f\"El nombre de la persona1 es: {persona1.nombre}\")\n",
    "#Modificamos el atributo con el método, no es necesario ingresar dentro del paréntesis\n",
    "persona1.nombre = \"Daniela\"\n",
    "#Verificamos los cambios\n",
    "persona1.mostrar_detalle()"
   ]
  },
  {
   "cell_type": "markdown",
   "metadata": {},
   "source": [
    "En el ejemplo anterior, podríamos comentar el método set y agregar un guión bajo al momento de dar un nuevo valor al atributo y se podría modificar.\n",
    "\n",
    "Sin embargo si sólo omitimos el set, se conocen como atributos de sólo lectura"
   ]
  },
  {
   "cell_type": "markdown",
   "metadata": {},
   "source": [
    "### Destructor"
   ]
  },
  {
   "cell_type": "code",
   "execution_count": 62,
   "metadata": {},
   "outputs": [
    {
     "name": "stdout",
     "output_type": "stream",
     "text": [
      "-----Creación de objetos------\n",
      "<__main__.Automoviles object at 0x000002C13ABA3400>\n",
      "\n",
      " ----Eliminación de objetos----\n",
      "Se eliminó el objeto con datos: VW Jetta\n"
     ]
    },
    {
     "ename": "NameError",
     "evalue": "name 'auto1' is not defined",
     "output_type": "error",
     "traceback": [
      "\u001b[1;31m---------------------------------------------------------------------------\u001b[0m",
      "\u001b[1;31mNameError\u001b[0m                                 Traceback (most recent call last)",
      "\u001b[1;32m~\\AppData\\Local\\Temp/ipykernel_15720/1805299506.py\u001b[0m in \u001b[0;36m<module>\u001b[1;34m\u001b[0m\n\u001b[0;32m     12\u001b[0m \u001b[0mprint\u001b[0m\u001b[1;33m(\u001b[0m\u001b[1;34m\"\\n\"\u001b[0m\u001b[1;33m,\u001b[0m\u001b[1;34m\"Eliminación de objetos\"\u001b[0m\u001b[1;33m.\u001b[0m\u001b[0mcenter\u001b[0m\u001b[1;33m(\u001b[0m\u001b[1;36m30\u001b[0m\u001b[1;33m,\u001b[0m\u001b[1;34m'-'\u001b[0m\u001b[1;33m)\u001b[0m\u001b[1;33m)\u001b[0m\u001b[1;33m\u001b[0m\u001b[1;33m\u001b[0m\u001b[0m\n\u001b[0;32m     13\u001b[0m \u001b[1;32mdel\u001b[0m \u001b[0mauto1\u001b[0m\u001b[1;33m\u001b[0m\u001b[1;33m\u001b[0m\u001b[0m\n\u001b[1;32m---> 14\u001b[1;33m \u001b[0mprint\u001b[0m\u001b[1;33m(\u001b[0m\u001b[0mauto1\u001b[0m\u001b[1;33m)\u001b[0m\u001b[1;33m\u001b[0m\u001b[1;33m\u001b[0m\u001b[0m\n\u001b[0m",
      "\u001b[1;31mNameError\u001b[0m: name 'auto1' is not defined"
     ]
    }
   ],
   "source": [
    "class Automoviles:\n",
    "  def __init__(self,marca,modelo):\n",
    "    self.marca=marca\n",
    "    self.modelo=modelo\n",
    "  def __del__(self):\n",
    "    print(f'Se eliminó el objeto con datos: {self.marca} {self.modelo}')\n",
    "\n",
    "print(\"Creación de objetos\".center(30,'-'))\n",
    "auto1=Automoviles(\"VW\",\"Jetta\")\n",
    "print(auto1)\n",
    "\n",
    "print(\"\\n\",\"Eliminación de objetos\".center(30,'-'))\n",
    "del auto1\n",
    "print(auto1)"
   ]
  },
  {
   "cell_type": "markdown",
   "metadata": {},
   "source": [
    "## Herencia"
   ]
  },
  {
   "cell_type": "markdown",
   "metadata": {},
   "source": [
    "- Todas las clases heredan de la clase objet, por lo que se podría escribir class Persona(Objetct)\n",
    "- Para heredar se escribe la clase de la cual se hereda entre paréntesis"
   ]
  },
  {
   "cell_type": "code",
   "execution_count": null,
   "metadata": {},
   "outputs": [],
   "source": [
    "#Clase padre\n",
    "class Persona():\n",
    "  def __init__(self,nombre,edad):\n",
    "    self.nombre=nombre\n",
    "    self.edad=edad\n",
    "\n",
    "#Clase hija\n",
    "class Empleado(Persona):\n",
    "  def __init__(self,nombre,edad,sueldo):\n",
    "    super().__init__(nombre,edad)\n",
    "    self.sueldo=sueldo\n",
    "\n",
    "empleado1=Empleado(\"Juan\",25,25000)\n"
   ]
  },
  {
   "cell_type": "markdown",
   "metadata": {},
   "source": [
    "Sobree escritura del método __str__"
   ]
  },
  {
   "cell_type": "code",
   "execution_count": null,
   "metadata": {},
   "outputs": [
    {
     "name": "stdout",
     "output_type": "stream",
     "text": [
      "Persona [Nombre: Juan, Edad: 24]\n",
      "Persona [Nombre: Juan, Edad: 25] Empleado [Sueldo: 25000]\n"
     ]
    }
   ],
   "source": [
    "#Clase padre\n",
    "class Persona():\n",
    "  def __init__(self,nombre,edad):\n",
    "    self.nombre=nombre\n",
    "    self.edad=edad\n",
    "  def __str__(self):\n",
    "    return f'Persona [Nombre: {self.nombre}, Edad: {self.edad}]'\n",
    "\n",
    "persona1=Persona(\"Juan\",24)\n",
    "print(persona1)\n",
    "\n",
    "#Clase hija\n",
    "class Empleado(Persona):\n",
    "  def __init__(self,nombre,edad,sueldo):\n",
    "    super().__init__(nombre,edad)\n",
    "    self.sueldo=sueldo\n",
    "  #Tenemos que sobre escribir otra vez\n",
    "  def __str__(self):\n",
    "    return f'{super().__str__()} Empleado [Sueldo: {self.sueldo}]'\n",
    "\n",
    "empleado1=Empleado(\"Juan\",25,25000)\n",
    "print(empleado1)"
   ]
  },
  {
   "cell_type": "markdown",
   "metadata": {},
   "source": [
    "## Herencia Multiple"
   ]
  },
  {
   "cell_type": "code",
   "execution_count": null,
   "metadata": {},
   "outputs": [
    {
     "name": "stdout",
     "output_type": "stream",
     "text": [
      "El área de la figura es: 15\n",
      "y es de color: azul\n",
      "[<class '__main__.Cuadrado'>, <class '__main__.FiguraGeometrica'>, <class '__main__.Color'>, <class 'object'>]\n"
     ]
    }
   ],
   "source": [
    "class FiguraGeometrica:\n",
    "  def __init__(self,ancho,alto):\n",
    "    self.ancho = ancho\n",
    "    self.alto = alto\n",
    "\n",
    "class Color:\n",
    "  def __init__(self,color):\n",
    "    self.color = color\n",
    "\n",
    "class Cuadrado(FiguraGeometrica,Color):\n",
    "  def __init__(self,ancho,alto,color):\n",
    "    FiguraGeometrica.__init__(self,ancho,alto)\n",
    "    Color.__init__(self,color)\n",
    "  def calcularAreaYColor(self):\n",
    "    res=self.alto*self.ancho\n",
    "    print(f\"El área de la figura es: {res}\")\n",
    "    print(f\"y es de color: {self.color}\")\n",
    "\n",
    "cuadrado=Cuadrado(5,3,\"azul\")\n",
    "cuadrado.calcularAreaYColor()\n",
    "print(Cuadrado.mro())"
   ]
  },
  {
   "cell_type": "markdown",
   "metadata": {},
   "source": [
    "## Clases Abstractas"
   ]
  },
  {
   "cell_type": "markdown",
   "metadata": {},
   "source": [
    "- Si agregamos un método abstracto a una clase, también se hace una clase abstracta y no se pueden crear objetos de ella\n",
    "- Se obliga a las clases hijas a implementar dicho método"
   ]
  },
  {
   "cell_type": "code",
   "execution_count": null,
   "metadata": {},
   "outputs": [],
   "source": [
    "#El siguiente código se debe agregar al crear una clase\n",
    "#Se importan las bibliotecas\n",
    "from abc import ABC,abstractmethod\n",
    "\n",
    "#Agregamos el método abstracto a la clase padre\n",
    "@abstractmethod\n",
    "def nombreMetodo(self):\n",
    "  pass\n",
    "\n",
    "#Se agrega nuevamente el método a las clases hijas de manera normal"
   ]
  },
  {
   "cell_type": "markdown",
   "metadata": {},
   "source": [
    "## Clases Estáticas"
   ]
  },
  {
   "cell_type": "markdown",
   "metadata": {},
   "source": [
    "### Variables de clase"
   ]
  },
  {
   "cell_type": "code",
   "execution_count": null,
   "metadata": {},
   "outputs": [
    {
     "name": "stdout",
     "output_type": "stream",
     "text": [
      "------------------Desde la clase------------------\n",
      "Valor x de clase\n",
      "-----------------Desde el objeto------------------\n",
      "Objeto Creado\n",
      "Valor x de clase\n",
      "valor_1 de instancia\n",
      "---------------\n",
      "Objeto Creado\n",
      "Valor x de clase\n",
      "valor_2 de instancia\n",
      "---------------\n",
      "Valor x2 de clase\n"
     ]
    }
   ],
   "source": [
    "class MiClase:\n",
    "  #Accesible desde la clase y para todos los objetos por igual\n",
    "  var_clase='Valor x de clase'\n",
    "  def __init__(self,var_instancia):\n",
    "    print(\"Objeto Creado\")\n",
    "    #Será diferente para cada objeto\n",
    "    self.var_instancia = var_instancia\n",
    "\n",
    "print(\"Desde la clase\".center(50,'-'))\n",
    "print(MiClase.var_clase) \n",
    "print(\"Desde el objeto\".center(50,'-'))\n",
    "objetoMiClase1=MiClase('valor_1 de instancia')\n",
    "print(objetoMiClase1.var_clase)\n",
    "print(objetoMiClase1.var_instancia)\n",
    "print(\"---------------\")\n",
    "objetoMiClase2=MiClase('valor_2 de instancia')\n",
    "print(objetoMiClase2.var_clase)\n",
    "print(objetoMiClase2.var_instancia)\n",
    "\n",
    "#Crear una variable de clase, desde fuera de la clase\n",
    "print(\"---------------\")\n",
    "MiClase.var_clase_2='Valor x2 de clase'\n",
    "print(objetoMiClase1.var_clase_2)"
   ]
  },
  {
   "cell_type": "markdown",
   "metadata": {},
   "source": [
    "### Métodos de clase"
   ]
  },
  {
   "cell_type": "markdown",
   "metadata": {},
   "source": [
    "#### Métodos Estáticos"
   ]
  },
  {
   "cell_type": "markdown",
   "metadata": {},
   "source": [
    "Se asocian con la clase en sí misma, al igual que las variables de clase\n",
    "- Contexto estático: Cuando se declaran variables y métodos a nivel clase\n",
    "- Contexto dinámico: Cuando se usan variables y métodos usando los objetos de la clase, una vez que la clase ya está cargada en memoria\n",
    "***\n",
    "- Los métodos estáticos, puden usar las variables de clase de manera indirecta, usando el nombre de la clase\n",
    "- Los métodos estáticos no puecen acceder a las variables de instancia \"self.variable\"\n",
    "***\n",
    "- Los métodos de clase pueden acceder de manera directa  a las variables de clase"
   ]
  },
  {
   "cell_type": "code",
   "execution_count": null,
   "metadata": {},
   "outputs": [
    {
     "name": "stdout",
     "output_type": "stream",
     "text": [
      "Hola, puedes acceder a este método sin tener un objeto\n",
      "Valor x de clase\n"
     ]
    }
   ],
   "source": [
    "#Método Estático\n",
    "\n",
    "class MiClase:\n",
    "  #Método estático\n",
    "  @staticmethod\n",
    "  def metodo_estatico():\n",
    "    print(\"Hola, puedes acceder a este método sin tener un objeto\")\n",
    "    print(MiClase.var_clase)\n",
    "  #Accesible desde la clase y para todos los objetos por igual\n",
    "  var_clase='Valor x de clase'\n",
    "  def __init__(self,var_instancia):\n",
    "    print(\"Objeto Creado\")\n",
    "    #Será diferente para cada objeto\n",
    "    self.var_instancia = var_instancia\n",
    "\n",
    "MiClase.metodo_estatico()"
   ]
  },
  {
   "cell_type": "code",
   "execution_count": null,
   "metadata": {},
   "outputs": [
    {
     "name": "stdout",
     "output_type": "stream",
     "text": [
      "Objeto Creado\n",
      "----------\n",
      "Accediendo a la variable de clase:  Valor x de clase\n",
      "Accediendo a la variable de clase:  Valor x de clase\n"
     ]
    }
   ],
   "source": [
    "#Método de clase\n",
    "\n",
    "class MiClase:\n",
    "  #Método de clase\n",
    "  @classmethod\n",
    "  def metodo_clase(cls):\n",
    "    print(\"Accediendo a la variable de clase: \",cls.var_clase)\n",
    "  #Accesible desde la clase y para todos los objetos por igual\n",
    "  var_clase='Valor x de clase'\n",
    "  def __init__(self,var_instancia):\n",
    "    print(\"Objeto Creado\")\n",
    "    #Será diferente para cada objeto\n",
    "    self.var_instancia = var_instancia\n",
    "\n",
    "objeto1=MiClase(\"valorx_instancia\")\n",
    "print(\"\".center(10,'-'))\n",
    "#Se puede acceder desde la clase o desde el objeto1\n",
    "MiClase.metodo_clase()\n",
    "objeto1.metodo_clase()"
   ]
  },
  {
   "cell_type": "markdown",
   "metadata": {},
   "source": [
    "#### Constantes en Python"
   ]
  },
  {
   "cell_type": "markdown",
   "metadata": {},
   "source": [
    "- Se deben escribir en mayúscula\n",
    "- Se deben importar desde otros módulos \"\"from modulo import constantes\""
   ]
  },
  {
   "cell_type": "markdown",
   "metadata": {},
   "source": [
    "#### Ejercicio:\n",
    "Aumentar una variable de clase cada vez que se cree un nuevo objeto"
   ]
  },
  {
   "cell_type": "code",
   "execution_count": null,
   "metadata": {},
   "outputs": [
    {
     "name": "stdout",
     "output_type": "stream",
     "text": [
      "Persona [1 Juan 28]\n",
      "Persona [2 Karla 30]\n",
      "Persona [3 Eduardo 25]\n",
      "Valor contador personas: 3\n"
     ]
    }
   ],
   "source": [
    "class Persona:\n",
    "    contador_personas = 0\n",
    "\n",
    "    def __init__(self, nombre, edad):\n",
    "        Persona.contador_personas += 1\n",
    "        self.id_persona = Persona.contador_personas\n",
    "        self.nombre = nombre\n",
    "        self.edad = edad\n",
    "\n",
    "    def __str__(self):\n",
    "        return f'Persona [{self.id_persona} {self.nombre} {self.edad}]'\n",
    "\n",
    "persona1 = Persona('Juan', 28)\n",
    "print(persona1)\n",
    "persona2 = Persona('Karla', 30)\n",
    "print(persona2)\n",
    "persona3 = Persona('Eduardo', 25)\n",
    "print(persona3)\n",
    "print(f'Valor contador personas: {Persona.contador_personas}')"
   ]
  },
  {
   "cell_type": "code",
   "execution_count": null,
   "metadata": {},
   "outputs": [
    {
     "name": "stdout",
     "output_type": "stream",
     "text": [
      "Persona [1 Juan 28]\n",
      "Persona [2 Karla 30]\n",
      "Persona [3 Eduardo 25]\n",
      "Valor contador personas: 3\n"
     ]
    }
   ],
   "source": [
    "class Persona:\n",
    "  contador_personas = 0\n",
    "  @classmethod\n",
    "  def aumentar_valor(cls):\n",
    "    cls.contador_personas +=1\n",
    "    valor_aumentado=cls.contador_personas\n",
    "    return valor_aumentado\n",
    "  def __init__(self, nombre, edad):\n",
    "      self.id_persona = Persona.aumentar_valor()\n",
    "      self.nombre = nombre\n",
    "      self.edad = edad\n",
    "\n",
    "  def __str__(self):\n",
    "    return f'Persona [{self.id_persona} {self.nombre} {self.edad}]'\n",
    "\n",
    "persona1 = Persona('Juan', 28)\n",
    "print(persona1)\n",
    "persona2 = Persona('Karla', 30)\n",
    "print(persona2)\n",
    "persona3 = Persona('Eduardo', 25)\n",
    "print(persona3)\n",
    "print(f'Valor contador personas: {Persona.contador_personas}')"
   ]
  },
  {
   "cell_type": "markdown",
   "metadata": {},
   "source": [
    "## Diseño de clases"
   ]
  },
  {
   "cell_type": "code",
   "execution_count": null,
   "metadata": {},
   "outputs": [],
   "source": [
    "class Producto:\n",
    "    contador_productos = 0\n",
    "\n",
    "    def __init__(self, nombre, precio):\n",
    "        Producto.contador_productos += 1\n",
    "        self._id_producto = Producto.contador_productos\n",
    "        self._nombre = nombre\n",
    "        self._precio = precio\n",
    "\n",
    "    @property\n",
    "    def precio(self):\n",
    "        return self._precio\n",
    "\n",
    "    def __str__(self):\n",
    "        return f'''\n",
    "        Id Producto: {self._id_producto} \n",
    "        Nombre: {self._nombre}\n",
    "        Precio: {self._precio}'''"
   ]
  },
  {
   "cell_type": "code",
   "execution_count": null,
   "metadata": {},
   "outputs": [],
   "source": [
    "class Orden:\n",
    "    contador_ordenes = 0\n",
    "\n",
    "    def __init__(self, productos):\n",
    "        Orden.contador_ordenes += 1\n",
    "        self._id_orden = Orden.contador_ordenes\n",
    "        self._productos = list(productos)\n",
    "\n",
    "    def agregar_producto(self, producto):\n",
    "        self._productos.append(producto)\n",
    "\n",
    "    def calcular_total(self):\n",
    "        total = 0\n",
    "        for producto in self._productos:\n",
    "            total += producto.precio\n",
    "        return total\n",
    "\n",
    "    def __str__(self):\n",
    "        productos_str = ''\n",
    "        for producto in self._productos:\n",
    "            productos_str += producto.__str__()+\"\\n------- \"\n",
    "        return f'Orden: {self._id_orden}\\nProductos:{productos_str}'"
   ]
  },
  {
   "cell_type": "code",
   "execution_count": null,
   "metadata": {},
   "outputs": [
    {
     "name": "stdout",
     "output_type": "stream",
     "text": [
      "Orden: 1\n",
      "Productos:\n",
      "        Id Producto: 5 \n",
      "        Nombre: Camisa\n",
      "        Precio: 100.0\n",
      "------- \n",
      "        Id Producto: 6 \n",
      "        Nombre: Pantalón\n",
      "        Precio: 150.0\n",
      "------- \n",
      "Orden: 2\n",
      "Productos:\n",
      "        Id Producto: 5 \n",
      "        Nombre: Camisa\n",
      "        Precio: 100.0\n",
      "------- \n",
      "        Id Producto: 6 \n",
      "        Nombre: Pantalón\n",
      "        Precio: 150.0\n",
      "------- \n"
     ]
    }
   ],
   "source": [
    "producto1 = Producto('Camisa', 100.00)\n",
    "\n",
    "producto2 = Producto('Pantalón', 150.00)\n",
    "productos1 = [producto1, producto2]\n",
    "orden1 = Orden(productos1)\n",
    "\n",
    "print(orden1)\n",
    "orden2 = Orden(productos1)\n",
    "print(orden2)"
   ]
  },
  {
   "cell_type": "markdown",
   "metadata": {},
   "source": [
    "## Sobre carga de operadores"
   ]
  },
  {
   "cell_type": "markdown",
   "metadata": {},
   "source": [
    "Por ejemplo el operador \"+\" tiene una sobre carga, ya que si se usa tipo numérico hace una suma, con cadenas las junta y para listas, hace sólo una lista\n",
    "- Para sobrecargar un operador, tenemos que sobree escribir un método\n",
    "- La sobre carga tiene que ver con el comportamiento \n",
    "- La sobre escritura tiene que ver con herencia"
   ]
  },
  {
   "cell_type": "code",
   "execution_count": null,
   "metadata": {},
   "outputs": [
    {
     "name": "stdout",
     "output_type": "stream",
     "text": [
      "3\n",
      "SoyJuan\n",
      "[1, 2, 3, 4, 5, 6]\n"
     ]
    }
   ],
   "source": [
    "a=1;b=2;print(a+b)\n",
    "a=\"Soy\";b=\"Juan\";print(a+b)\n",
    "a=[1,2,3];b=[4,5,6];print(a+b)"
   ]
  },
  {
   "cell_type": "code",
   "execution_count": null,
   "metadata": {},
   "outputs": [
    {
     "name": "stdout",
     "output_type": "stream",
     "text": [
      "(7, 4)\n"
     ]
    }
   ],
   "source": [
    "def __add__(self, other):\n",
    "  suma1=self[0]+other[0]\n",
    "  suma2=self[1]+other[1]\n",
    "  resultado=(suma1,suma2)\n",
    "  print(resultado) \n",
    "\n",
    "__add__((5,1),(2,3))\n",
    "\n"
   ]
  },
  {
   "cell_type": "markdown",
   "metadata": {},
   "source": [
    "## Polimorfismo"
   ]
  },
  {
   "cell_type": "markdown",
   "metadata": {},
   "source": [
    "- Un mismo objeto puede cambiar de forma, dependiendo del contexto en el que esté "
   ]
  },
  {
   "cell_type": "code",
   "execution_count": null,
   "metadata": {},
   "outputs": [
    {
     "name": "stdout",
     "output_type": "stream",
     "text": [
      "Me desplazo con cuatro ruedas\n",
      "Me desplazo con dos ruedas\n",
      "Me desplazo con seis ruedas\n"
     ]
    }
   ],
   "source": [
    "class Coche():\n",
    "  def desplazamiento(self):\n",
    "    print(\"Me desplazo con cuatro ruedas\")\n",
    "\n",
    "class Moto():\n",
    "  def desplazamiento(self):\n",
    "    print(\"Me desplazo con dos ruedas\")\n",
    "\n",
    "class Camion():\n",
    "  def desplazamiento(self):\n",
    "    print(\"Me desplazo con seis ruedas\")\n",
    "  \n",
    "miVehiculo1=Coche();miVehiculo1.desplazamiento()\n",
    "miVehiculo2=Moto();miVehiculo2.desplazamiento()\n",
    "miVehiculo3=Camion();miVehiculo3.desplazamiento()"
   ]
  },
  {
   "cell_type": "code",
   "execution_count": 1,
   "metadata": {},
   "outputs": [
    {
     "ename": "NameError",
     "evalue": "name 'Coche' is not defined",
     "output_type": "error",
     "traceback": [
      "\u001b[1;31m---------------------------------------------------------------------------\u001b[0m",
      "\u001b[1;31mNameError\u001b[0m                                 Traceback (most recent call last)",
      "\u001b[1;32m~\\AppData\\Local\\Temp/ipykernel_11328/3754565539.py\u001b[0m in \u001b[0;36m<module>\u001b[1;34m\u001b[0m\n\u001b[0;32m     13\u001b[0m \u001b[1;31m#Cuando usamos el método desplazamientoVehiculo\u001b[0m\u001b[1;33m\u001b[0m\u001b[1;33m\u001b[0m\u001b[0m\n\u001b[0;32m     14\u001b[0m \u001b[1;31m#mandamos a llamar al método desplazamiento de cada clase\u001b[0m\u001b[1;33m\u001b[0m\u001b[1;33m\u001b[0m\u001b[0m\n\u001b[1;32m---> 15\u001b[1;33m \u001b[0mmiVehiculo\u001b[0m\u001b[1;33m=\u001b[0m\u001b[0mCoche\u001b[0m\u001b[1;33m(\u001b[0m\u001b[1;33m)\u001b[0m\u001b[1;33m\u001b[0m\u001b[1;33m\u001b[0m\u001b[0m\n\u001b[0m\u001b[0;32m     16\u001b[0m \u001b[0mdesplazamientoVehiculo\u001b[0m\u001b[1;33m(\u001b[0m\u001b[0mmiVehiculo\u001b[0m\u001b[1;33m)\u001b[0m\u001b[1;33m\u001b[0m\u001b[1;33m\u001b[0m\u001b[0m\n\u001b[0;32m     17\u001b[0m \u001b[1;33m\u001b[0m\u001b[0m\n",
      "\u001b[1;31mNameError\u001b[0m: name 'Coche' is not defined"
     ]
    }
   ],
   "source": [
    "class Trailer():\n",
    "  def desplazamiento(self):\n",
    "    print(\"Me desplazo con ocho ruedas\")\n",
    "\n",
    "def desplazamientoVehiculo(vehiculo):\n",
    "  #Usamos método if istance para validar\n",
    "  if isinstance(vehiculo,(Coche,Moto,Camion)):\n",
    "    #Método definido dentro de las clases de cada objeto\n",
    "    vehiculo.desplazamiento()\n",
    "  else:\n",
    "    print(f\"El objeto de tipo: {type(vehiculo)} no pude utilizar este método\")\n",
    "\n",
    "#Cuando usamos el método desplazamientoVehiculo\n",
    "#mandamos a llamar al método desplazamiento de cada clase\n",
    "miVehiculo=Coche()\n",
    "desplazamientoVehiculo(miVehiculo)\n",
    "\n",
    "miVehiculo=Moto()\n",
    "desplazamientoVehiculo(miVehiculo)\n",
    "\n",
    "miVehiculo=Camion()\n",
    "desplazamientoVehiculo(miVehiculo)\n",
    "\n",
    "miVehiculo=Trailer()\n",
    "desplazamientoVehiculo(miVehiculo)"
   ]
  }
 ],
 "metadata": {
  "kernelspec": {
   "display_name": "Python 3.9.7 ('base')",
   "language": "python",
   "name": "python3"
  },
  "language_info": {
   "codemirror_mode": {
    "name": "ipython",
    "version": 3
   },
   "file_extension": ".py",
   "mimetype": "text/x-python",
   "name": "python",
   "nbconvert_exporter": "python",
   "pygments_lexer": "ipython3",
   "version": "3.9.7"
  },
  "orig_nbformat": 4,
  "vscode": {
   "interpreter": {
    "hash": "0408a15bde4df7e1ccfa8996ed5867eae97259219572d775f1f8a0b3c578a930"
   }
  }
 },
 "nbformat": 4,
 "nbformat_minor": 2
}
